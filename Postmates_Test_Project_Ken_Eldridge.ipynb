{
 "cells": [
  {
   "cell_type": "code",
   "execution_count": 28,
   "metadata": {
    "collapsed": false
   },
   "outputs": [
    {
     "data": {
      "text/html": [
       "<style>.container { width:100% !important; }</style>"
      ],
      "text/plain": [
       "<IPython.core.display.HTML object>"
      ]
     },
     "metadata": {},
     "output_type": "display_data"
    }
   ],
   "source": [
    "%matplotlib inline\n",
    "from IPython.display import display, HTML\n",
    "display(HTML(\"<style>.container { width:100% !important; }</style>\"))\n",
    "import pandas as pd\n",
    "import seaborn as sns\n",
    "import matplotlib.pyplot as plt\n",
    "import re, copy\n",
    "import numpy as np\n",
    "from collections import Counter\n",
    "from operator import itemgetter\n",
    "import plotly.plotly as py\n",
    "from sklearn.preprocessing import Imputer\n",
    "import math\n",
    "import pickle\n",
    "import time\n",
    "import sys\n",
    "from scipy.spatial.distance import cosine\n",
    "import datetime\n",
    "from fancyimpute import NuclearNormMinimization\n",
    "from fancyimpute import MICE\n",
    "from IPython.display import Image\n",
    "from IPython.core.display import display, HTML"
   ]
  },
  {
   "cell_type": "markdown",
   "metadata": {},
   "source": [
    "# Load data"
   ]
  },
  {
   "cell_type": "markdown",
   "metadata": {},
   "source": [
    "## Jobs Data"
   ]
  },
  {
   "cell_type": "code",
   "execution_count": 29,
   "metadata": {
    "collapsed": false
   },
   "outputs": [
    {
     "name": "stdout",
     "output_type": "stream",
     "text": [
      "jobs.shape:  (20257, 11) \n",
      " jobs.columns Index(['job_uuid', 'date_created', 'courier_uuid', 'purchase_price',\n",
      "       'pip_account_id', 'business_name', 'street_address_1',\n",
      "       'street_address_2', 'city', 'state', 'zip_code'],\n",
      "      dtype='object')\n"
     ]
    },
    {
     "data": {
      "text/html": [
       "<div>\n",
       "<table border=\"1\" class=\"dataframe\">\n",
       "  <thead>\n",
       "    <tr style=\"text-align: right;\">\n",
       "      <th></th>\n",
       "      <th>purchase_price</th>\n",
       "      <th>pip_account_id</th>\n",
       "    </tr>\n",
       "  </thead>\n",
       "  <tbody>\n",
       "    <tr>\n",
       "      <th>count</th>\n",
       "      <td>20257.000000</td>\n",
       "      <td>20257.000000</td>\n",
       "    </tr>\n",
       "    <tr>\n",
       "      <th>mean</th>\n",
       "      <td>28.555533</td>\n",
       "      <td>80635.983808</td>\n",
       "    </tr>\n",
       "    <tr>\n",
       "      <th>std</th>\n",
       "      <td>33.554349</td>\n",
       "      <td>26854.941140</td>\n",
       "    </tr>\n",
       "    <tr>\n",
       "      <th>min</th>\n",
       "      <td>0.000000</td>\n",
       "      <td>8363.000000</td>\n",
       "    </tr>\n",
       "    <tr>\n",
       "      <th>25%</th>\n",
       "      <td>12.150000</td>\n",
       "      <td>62051.000000</td>\n",
       "    </tr>\n",
       "    <tr>\n",
       "      <th>50%</th>\n",
       "      <td>20.000000</td>\n",
       "      <td>88266.000000</td>\n",
       "    </tr>\n",
       "    <tr>\n",
       "      <th>75%</th>\n",
       "      <td>34.040000</td>\n",
       "      <td>101576.000000</td>\n",
       "    </tr>\n",
       "    <tr>\n",
       "      <th>max</th>\n",
       "      <td>1471.230000</td>\n",
       "      <td>122988.000000</td>\n",
       "    </tr>\n",
       "  </tbody>\n",
       "</table>\n",
       "</div>"
      ],
      "text/plain": [
       "       purchase_price  pip_account_id\n",
       "count    20257.000000    20257.000000\n",
       "mean        28.555533    80635.983808\n",
       "std         33.554349    26854.941140\n",
       "min          0.000000     8363.000000\n",
       "25%         12.150000    62051.000000\n",
       "50%         20.000000    88266.000000\n",
       "75%         34.040000   101576.000000\n",
       "max       1471.230000   122988.000000"
      ]
     },
     "execution_count": 29,
     "metadata": {},
     "output_type": "execute_result"
    }
   ],
   "source": [
    "jobs = pd.read_csv('data/jumpman_jobs.csv', dtype={'date_created': str})\n",
    "print ('jobs.shape: ', jobs.shape, '\\n jobs.columns', jobs.columns)\n",
    "jobs.describe()"
   ]
  },
  {
   "cell_type": "markdown",
   "metadata": {},
   "source": [
    "## Pip Data"
   ]
  },
  {
   "cell_type": "code",
   "execution_count": 30,
   "metadata": {
    "collapsed": false
   },
   "outputs": [
    {
     "name": "stdout",
     "output_type": "stream",
     "text": [
      "pip.shape:  (19453, 7) \n",
      " pip.columns Index(['transaction_id', 'transaction_dt', 'category', 'description', 'amount',\n",
      "       'transaction_code', 'pip_account_id'],\n",
      "      dtype='object')\n",
      "       transaction_id        amount  transaction_code  pip_account_id\n",
      "count    1.945300e+04  19453.000000      19453.000000    19453.000000\n",
      "mean     4.557958e+06    -28.019777       1300.039069    80825.005500\n",
      "std      9.419861e+04     35.111613          0.883111    26829.943309\n",
      "min      4.359866e+06  -1471.230000       1300.000000     8363.000000\n",
      "25%      4.477995e+06    -33.560000       1300.000000    62051.000000\n",
      "50%      4.560621e+06    -19.620000       1300.000000    88681.000000\n",
      "75%      4.636049e+06    -11.900000       1300.000000   101608.000000\n",
      "max      5.183503e+06   1662.250000       1320.000000   122988.000000\n"
     ]
    },
    {
     "name": "stderr",
     "output_type": "stream",
     "text": [
      "//anaconda/lib/python3.5/site-packages/statsmodels/nonparametric/kdetools.py:20: VisibleDeprecationWarning:\n",
      "\n",
      "using a non-integer number instead of an integer will result in an error in the future\n",
      "\n"
     ]
    },
    {
     "data": {
      "text/plain": [
       "<matplotlib.axes._subplots.AxesSubplot at 0x1165d5208>"
      ]
     },
     "execution_count": 30,
     "metadata": {},
     "output_type": "execute_result"
    },
    {
     "data": {
      "image/png": "[encoded data removed]",
      "text/plain": [
       "<matplotlib.figure.Figure at 0x1163afcc0>"
      ]
     },
     "metadata": {},
     "output_type": "display_data"
    }
   ],
   "source": [
    "pip = pd.read_csv('data/jumpman_pip.csv', dtype={'transaction_dt': str})\n",
    "print ('pip.shape: ', pip.shape, '\\n pip.columns', pip.columns)\n",
    "print (pip.describe())\n",
    "sns.distplot(pip.amount)"
   ]
  },
  {
   "cell_type": "markdown",
   "metadata": {},
   "source": [
    "# Let's convert the timestamps to epoch"
   ]
  },
  {
   "cell_type": "code",
   "execution_count": 31,
   "metadata": {
    "collapsed": false
   },
   "outputs": [
    {
     "name": "stdout",
     "output_type": "stream",
     "text": [
      "Too slow? These conversions took 1.08 seconds\n"
     ]
    }
   ],
   "source": [
    "job_pattern = '%Y-%m-%d %H:%M:%S.%f'\n",
    "pip_pattern = '%Y-%m-%d %H:%M:%S'\n",
    "start = time.time()\n",
    "jobs['job_epoch'] = [int(time.mktime(time.strptime(x, job_pattern))) for x in jobs.date_created]\n",
    "pip['pip_epoch'] = [int(time.mktime(time.strptime(x, pip_pattern))) for x in pip.transaction_dt]\n",
    "end = time.time()\n",
    "print('Too slow? These conversions took', round(end - start,2), 'seconds')"
   ]
  },
  {
   "cell_type": "markdown",
   "metadata": {},
   "source": [
    "# Let's build some simple NLP feature to compare business_name with description"
   ]
  },
  {
   "cell_type": "code",
   "execution_count": 32,
   "metadata": {
    "collapsed": false
   },
   "outputs": [
    {
     "name": "stdout",
     "output_type": "stream",
     "text": [
      "4948 4948\n"
     ]
    }
   ],
   "source": [
    "# Build a dictionary\n",
    "index_word = {}\n",
    "word_index = {}\n",
    "word_count = 0\n",
    "for text in jobs.business_name:\n",
    "    if type(text) is str:\n",
    "        for word in text.lower().split(' '):\n",
    "            if word not in word_index:\n",
    "                index_word[word_count] = word\n",
    "                word_index[word] = word_count\n",
    "                word_count+=1\n",
    "for text in pip.description:\n",
    "    if type(text) is str:\n",
    "        for word in text.lower().split(' '):\n",
    "            if word not in word_index:\n",
    "                index_word[word_count] = word\n",
    "                word_index[word] = word_count\n",
    "                word_count+=1\n",
    "\n",
    "print (len(index_word), len(word_index))"
   ]
  },
  {
   "cell_type": "markdown",
   "metadata": {},
   "source": [
    "# Build unigram feature vectors"
   ]
  },
  {
   "cell_type": "code",
   "execution_count": 33,
   "metadata": {
    "collapsed": false
   },
   "outputs": [
    {
     "name": "stdout",
     "output_type": "stream",
     "text": [
      "(20257, 13)\n",
      "                               job_uuid                date_created  \\\n",
      "0  55ff57fe-83d1-471c-bba8-444106f6a432  2015-11-02 22:48:00.765227   \n",
      "1  cb7076ed-88e7-4098-8c8b-6db984623188   2015-11-03 00:09:51.26556   \n",
      "2  fb86438f-8952-4398-8e5c-f509338f1851  2015-11-03 01:38:14.457542   \n",
      "3  eff38a8e-6b32-477c-9515-7f698c242048  2015-11-03 01:58:25.297675   \n",
      "4  6a3f469e-eb6b-4ae9-b2ed-b40f2217c3d3  2015-11-03 02:19:12.072772   \n",
      "\n",
      "                           courier_uuid  purchase_price  pip_account_id  \\\n",
      "0  1da6fc9d-b192-46a6-971a-429d94ac333c           11.94            8363   \n",
      "1  1da6fc9d-b192-46a6-971a-429d94ac333c          541.73            8363   \n",
      "2  1da6fc9d-b192-46a6-971a-429d94ac333c           49.32            8363   \n",
      "3  1da6fc9d-b192-46a6-971a-429d94ac333c            7.20            8363   \n",
      "4  1da6fc9d-b192-46a6-971a-429d94ac333c           46.16            8363   \n",
      "\n",
      "           business_name      street_address_1 street_address_2  \\\n",
      "0          Il Tramezzino        454 N Canon Dr              NaN   \n",
      "1            Apple Store     8500 Beverly Blvd              NaN   \n",
      "2  Fish Grill Restaurant      9618 W Pico Blvd              NaN   \n",
      "3              Starbucks  9718 Washington Blvd              NaN   \n",
      "4          Il Tramezzino        454 N Canon Dr              NaN   \n",
      "\n",
      "            city state zip_code   job_epoch  \\\n",
      "0  Beverly Hills    CA    90210  1446522480   \n",
      "1    Los Angeles    CA    90048  1446527391   \n",
      "2    Los Angeles    CA    90035  1446532694   \n",
      "3    Culver City    CA    90232  1446533905   \n",
      "4  Beverly Hills    CA    90210  1446535152   \n",
      "\n",
      "                                                   0  \n",
      "0  [1, 1, 0, 0, 0, 0, 0, 0, 0, 0, 0, 0, 0, 0, 0, ...  \n",
      "1  [0, 0, 1, 1, 0, 0, 0, 0, 0, 0, 0, 0, 0, 0, 0, ...  \n",
      "2  [0, 0, 0, 0, 1, 1, 1, 0, 0, 0, 0, 0, 0, 0, 0, ...  \n",
      "3  [0, 0, 0, 0, 0, 0, 0, 1, 0, 0, 0, 0, 0, 0, 0, ...  \n",
      "4  [1, 1, 0, 0, 0, 0, 0, 0, 0, 0, 0, 0, 0, 0, 0, ...  \n",
      "(19453, 9)\n",
      "   transaction_id       transaction_dt       category  \\\n",
      "0         4435552  2015-11-03 00:24:47  Retail Stores   \n",
      "1         4435551  2015-11-03 00:40:03  Retail Stores   \n",
      "2         4440375  2015-11-03 01:55:04    Restaurants   \n",
      "3         4428301  2015-11-03 02:09:43    Restaurants   \n",
      "4         4428299  2015-11-03 02:14:46    Restaurants   \n",
      "\n",
      "                           description  amount  transaction_code  \\\n",
      "0  APPLE STORE  #R124, LOS ANGELES, CA -200.00              1300   \n",
      "1  APPLE STORE  #R124, LOS ANGELES, CA -341.73              1300   \n",
      "2          FISH GRILL, LOS ANGELES, CA  -49.32              1300   \n",
      "3           NOBU LA, WEST HOLLYWOO, CA -236.53              1300   \n",
      "4           NOBU LA, WEST HOLLYWOO, CA  -15.26              1300   \n",
      "\n",
      "   pip_account_id   pip_epoch  \\\n",
      "0            8363  1446528287   \n",
      "1            8363  1446529203   \n",
      "2            8363  1446533704   \n",
      "3            8363  1446534583   \n",
      "4            8363  1446534886   \n",
      "\n",
      "                                                   0  \n",
      "0  [0, 0, 1, 1, 0, 0, 0, 0, 0, 0, 0, 0, 0, 0, 0, ...  \n",
      "1  [0, 0, 1, 1, 0, 0, 0, 0, 0, 0, 0, 0, 0, 0, 0, ...  \n",
      "2  [0, 0, 0, 0, 1, 0, 0, 0, 0, 0, 0, 0, 0, 0, 0, ...  \n",
      "3  [0, 0, 0, 0, 0, 0, 0, 0, 0, 0, 0, 0, 0, 0, 0, ...  \n",
      "4  [0, 0, 0, 0, 0, 0, 0, 0, 0, 0, 0, 0, 0, 0, 0, ...  \n"
     ]
    }
   ],
   "source": [
    "unigram_bus_nm_list = []\n",
    "for row in range(jobs.shape[0]):\n",
    "    text = jobs.iloc[row].business_name\n",
    "    if type(text) is str:\n",
    "        ug = [0] * len(index_word)\n",
    "        for word in text.lower().split(' '):\n",
    "            ug[word_index[word]] = 1\n",
    "        unigram_bus_nm_list.append([ug])\n",
    "jobs = pd.concat([jobs, pd.DataFrame(unigram_bus_nm_list)], axis=1)\n",
    "print (jobs.shape)\n",
    "print (jobs.head())\n",
    "\n",
    "unigram_desc_list = []\n",
    "for row in range(pip.shape[0]):\n",
    "    text = pip.iloc[row].description\n",
    "    if type(text) is str:\n",
    "        ug = [0] * len(index_word)\n",
    "        for word in text.lower().split(' '):\n",
    "            if type(word) is str:\n",
    "                ug[word_index[word]] = 1\n",
    "        unigram_desc_list.append([ug])\n",
    "pip = pd.concat([pip, pd.DataFrame(unigram_desc_list)], axis=1)\n",
    "print (pip.shape)\n",
    "print (pip.head())"
   ]
  },
  {
   "cell_type": "markdown",
   "metadata": {},
   "source": [
    "## Join on pip_account_id\n",
    "This will result in a cross-product containing all possible matches"
   ]
  },
  {
   "cell_type": "code",
   "execution_count": 35,
   "metadata": {
    "collapsed": false,
    "scrolled": false
   },
   "outputs": [
    {
     "name": "stdout",
     "output_type": "stream",
     "text": [
      "jobs_pip.shape:  (1449299, 21)\n"
     ]
    },
    {
     "data": {
      "text/html": [
       "<div>\n",
       "<table border=\"1\" class=\"dataframe\">\n",
       "  <thead>\n",
       "    <tr style=\"text-align: right;\">\n",
       "      <th></th>\n",
       "      <th>job_uuid</th>\n",
       "      <th>date_created</th>\n",
       "      <th>courier_uuid</th>\n",
       "      <th>purchase_price</th>\n",
       "      <th>pip_account_id</th>\n",
       "      <th>business_name</th>\n",
       "      <th>street_address_1</th>\n",
       "      <th>street_address_2</th>\n",
       "      <th>city</th>\n",
       "      <th>state</th>\n",
       "      <th>...</th>\n",
       "      <th>job_epoch</th>\n",
       "      <th>0_x</th>\n",
       "      <th>transaction_id</th>\n",
       "      <th>transaction_dt</th>\n",
       "      <th>category</th>\n",
       "      <th>description</th>\n",
       "      <th>amount</th>\n",
       "      <th>transaction_code</th>\n",
       "      <th>pip_epoch</th>\n",
       "      <th>0_y</th>\n",
       "    </tr>\n",
       "  </thead>\n",
       "  <tbody>\n",
       "    <tr>\n",
       "      <th>0</th>\n",
       "      <td>55ff57fe-83d1-471c-bba8-444106f6a432</td>\n",
       "      <td>2015-11-02 22:48:00.765227</td>\n",
       "      <td>1da6fc9d-b192-46a6-971a-429d94ac333c</td>\n",
       "      <td>11.94</td>\n",
       "      <td>8363.0</td>\n",
       "      <td>Il Tramezzino</td>\n",
       "      <td>454 N Canon Dr</td>\n",
       "      <td>NaN</td>\n",
       "      <td>Beverly Hills</td>\n",
       "      <td>CA</td>\n",
       "      <td>...</td>\n",
       "      <td>1.446522e+09</td>\n",
       "      <td>[1, 1, 0, 0, 0, 0, 0, 0, 0, 0, 0, 0, 0, 0, 0, ...</td>\n",
       "      <td>4435552.0</td>\n",
       "      <td>2015-11-03 00:24:47</td>\n",
       "      <td>Retail Stores</td>\n",
       "      <td>APPLE STORE  #R124, LOS ANGELES, CA</td>\n",
       "      <td>-200.00</td>\n",
       "      <td>1300.0</td>\n",
       "      <td>1.446528e+09</td>\n",
       "      <td>[0, 0, 1, 1, 0, 0, 0, 0, 0, 0, 0, 0, 0, 0, 0, ...</td>\n",
       "    </tr>\n",
       "    <tr>\n",
       "      <th>1</th>\n",
       "      <td>55ff57fe-83d1-471c-bba8-444106f6a432</td>\n",
       "      <td>2015-11-02 22:48:00.765227</td>\n",
       "      <td>1da6fc9d-b192-46a6-971a-429d94ac333c</td>\n",
       "      <td>11.94</td>\n",
       "      <td>8363.0</td>\n",
       "      <td>Il Tramezzino</td>\n",
       "      <td>454 N Canon Dr</td>\n",
       "      <td>NaN</td>\n",
       "      <td>Beverly Hills</td>\n",
       "      <td>CA</td>\n",
       "      <td>...</td>\n",
       "      <td>1.446522e+09</td>\n",
       "      <td>[1, 1, 0, 0, 0, 0, 0, 0, 0, 0, 0, 0, 0, 0, 0, ...</td>\n",
       "      <td>4435551.0</td>\n",
       "      <td>2015-11-03 00:40:03</td>\n",
       "      <td>Retail Stores</td>\n",
       "      <td>APPLE STORE  #R124, LOS ANGELES, CA</td>\n",
       "      <td>-341.73</td>\n",
       "      <td>1300.0</td>\n",
       "      <td>1.446529e+09</td>\n",
       "      <td>[0, 0, 1, 1, 0, 0, 0, 0, 0, 0, 0, 0, 0, 0, 0, ...</td>\n",
       "    </tr>\n",
       "    <tr>\n",
       "      <th>2</th>\n",
       "      <td>55ff57fe-83d1-471c-bba8-444106f6a432</td>\n",
       "      <td>2015-11-02 22:48:00.765227</td>\n",
       "      <td>1da6fc9d-b192-46a6-971a-429d94ac333c</td>\n",
       "      <td>11.94</td>\n",
       "      <td>8363.0</td>\n",
       "      <td>Il Tramezzino</td>\n",
       "      <td>454 N Canon Dr</td>\n",
       "      <td>NaN</td>\n",
       "      <td>Beverly Hills</td>\n",
       "      <td>CA</td>\n",
       "      <td>...</td>\n",
       "      <td>1.446522e+09</td>\n",
       "      <td>[1, 1, 0, 0, 0, 0, 0, 0, 0, 0, 0, 0, 0, 0, 0, ...</td>\n",
       "      <td>4440375.0</td>\n",
       "      <td>2015-11-03 01:55:04</td>\n",
       "      <td>Restaurants</td>\n",
       "      <td>FISH GRILL, LOS ANGELES, CA</td>\n",
       "      <td>-49.32</td>\n",
       "      <td>1300.0</td>\n",
       "      <td>1.446534e+09</td>\n",
       "      <td>[0, 0, 0, 0, 1, 0, 0, 0, 0, 0, 0, 0, 0, 0, 0, ...</td>\n",
       "    </tr>\n",
       "    <tr>\n",
       "      <th>3</th>\n",
       "      <td>55ff57fe-83d1-471c-bba8-444106f6a432</td>\n",
       "      <td>2015-11-02 22:48:00.765227</td>\n",
       "      <td>1da6fc9d-b192-46a6-971a-429d94ac333c</td>\n",
       "      <td>11.94</td>\n",
       "      <td>8363.0</td>\n",
       "      <td>Il Tramezzino</td>\n",
       "      <td>454 N Canon Dr</td>\n",
       "      <td>NaN</td>\n",
       "      <td>Beverly Hills</td>\n",
       "      <td>CA</td>\n",
       "      <td>...</td>\n",
       "      <td>1.446522e+09</td>\n",
       "      <td>[1, 1, 0, 0, 0, 0, 0, 0, 0, 0, 0, 0, 0, 0, 0, ...</td>\n",
       "      <td>4428301.0</td>\n",
       "      <td>2015-11-03 02:09:43</td>\n",
       "      <td>Restaurants</td>\n",
       "      <td>NOBU LA, WEST HOLLYWOO, CA</td>\n",
       "      <td>-236.53</td>\n",
       "      <td>1300.0</td>\n",
       "      <td>1.446535e+09</td>\n",
       "      <td>[0, 0, 0, 0, 0, 0, 0, 0, 0, 0, 0, 0, 0, 0, 0, ...</td>\n",
       "    </tr>\n",
       "    <tr>\n",
       "      <th>4</th>\n",
       "      <td>55ff57fe-83d1-471c-bba8-444106f6a432</td>\n",
       "      <td>2015-11-02 22:48:00.765227</td>\n",
       "      <td>1da6fc9d-b192-46a6-971a-429d94ac333c</td>\n",
       "      <td>11.94</td>\n",
       "      <td>8363.0</td>\n",
       "      <td>Il Tramezzino</td>\n",
       "      <td>454 N Canon Dr</td>\n",
       "      <td>NaN</td>\n",
       "      <td>Beverly Hills</td>\n",
       "      <td>CA</td>\n",
       "      <td>...</td>\n",
       "      <td>1.446522e+09</td>\n",
       "      <td>[1, 1, 0, 0, 0, 0, 0, 0, 0, 0, 0, 0, 0, 0, 0, ...</td>\n",
       "      <td>4428299.0</td>\n",
       "      <td>2015-11-03 02:14:46</td>\n",
       "      <td>Restaurants</td>\n",
       "      <td>NOBU LA, WEST HOLLYWOO, CA</td>\n",
       "      <td>-15.26</td>\n",
       "      <td>1300.0</td>\n",
       "      <td>1.446535e+09</td>\n",
       "      <td>[0, 0, 0, 0, 0, 0, 0, 0, 0, 0, 0, 0, 0, 0, 0, ...</td>\n",
       "    </tr>\n",
       "  </tbody>\n",
       "</table>\n",
       "<p>5 rows × 21 columns</p>\n",
       "</div>"
      ],
      "text/plain": [
       "                               job_uuid                date_created  \\\n",
       "0  55ff57fe-83d1-471c-bba8-444106f6a432  2015-11-02 22:48:00.765227   \n",
       "1  55ff57fe-83d1-471c-bba8-444106f6a432  2015-11-02 22:48:00.765227   \n",
       "2  55ff57fe-83d1-471c-bba8-444106f6a432  2015-11-02 22:48:00.765227   \n",
       "3  55ff57fe-83d1-471c-bba8-444106f6a432  2015-11-02 22:48:00.765227   \n",
       "4  55ff57fe-83d1-471c-bba8-444106f6a432  2015-11-02 22:48:00.765227   \n",
       "\n",
       "                           courier_uuid  purchase_price  pip_account_id  \\\n",
       "0  1da6fc9d-b192-46a6-971a-429d94ac333c           11.94          8363.0   \n",
       "1  1da6fc9d-b192-46a6-971a-429d94ac333c           11.94          8363.0   \n",
       "2  1da6fc9d-b192-46a6-971a-429d94ac333c           11.94          8363.0   \n",
       "3  1da6fc9d-b192-46a6-971a-429d94ac333c           11.94          8363.0   \n",
       "4  1da6fc9d-b192-46a6-971a-429d94ac333c           11.94          8363.0   \n",
       "\n",
       "   business_name street_address_1 street_address_2           city state  \\\n",
       "0  Il Tramezzino   454 N Canon Dr              NaN  Beverly Hills    CA   \n",
       "1  Il Tramezzino   454 N Canon Dr              NaN  Beverly Hills    CA   \n",
       "2  Il Tramezzino   454 N Canon Dr              NaN  Beverly Hills    CA   \n",
       "3  Il Tramezzino   454 N Canon Dr              NaN  Beverly Hills    CA   \n",
       "4  Il Tramezzino   454 N Canon Dr              NaN  Beverly Hills    CA   \n",
       "\n",
       "                         ...                             job_epoch  \\\n",
       "0                        ...                          1.446522e+09   \n",
       "1                        ...                          1.446522e+09   \n",
       "2                        ...                          1.446522e+09   \n",
       "3                        ...                          1.446522e+09   \n",
       "4                        ...                          1.446522e+09   \n",
       "\n",
       "                                                 0_x transaction_id  \\\n",
       "0  [1, 1, 0, 0, 0, 0, 0, 0, 0, 0, 0, 0, 0, 0, 0, ...      4435552.0   \n",
       "1  [1, 1, 0, 0, 0, 0, 0, 0, 0, 0, 0, 0, 0, 0, 0, ...      4435551.0   \n",
       "2  [1, 1, 0, 0, 0, 0, 0, 0, 0, 0, 0, 0, 0, 0, 0, ...      4440375.0   \n",
       "3  [1, 1, 0, 0, 0, 0, 0, 0, 0, 0, 0, 0, 0, 0, 0, ...      4428301.0   \n",
       "4  [1, 1, 0, 0, 0, 0, 0, 0, 0, 0, 0, 0, 0, 0, 0, ...      4428299.0   \n",
       "\n",
       "        transaction_dt       category                          description  \\\n",
       "0  2015-11-03 00:24:47  Retail Stores  APPLE STORE  #R124, LOS ANGELES, CA   \n",
       "1  2015-11-03 00:40:03  Retail Stores  APPLE STORE  #R124, LOS ANGELES, CA   \n",
       "2  2015-11-03 01:55:04    Restaurants          FISH GRILL, LOS ANGELES, CA   \n",
       "3  2015-11-03 02:09:43    Restaurants           NOBU LA, WEST HOLLYWOO, CA   \n",
       "4  2015-11-03 02:14:46    Restaurants           NOBU LA, WEST HOLLYWOO, CA   \n",
       "\n",
       "   amount  transaction_code     pip_epoch  \\\n",
       "0 -200.00            1300.0  1.446528e+09   \n",
       "1 -341.73            1300.0  1.446529e+09   \n",
       "2  -49.32            1300.0  1.446534e+09   \n",
       "3 -236.53            1300.0  1.446535e+09   \n",
       "4  -15.26            1300.0  1.446535e+09   \n",
       "\n",
       "                                                 0_y  \n",
       "0  [0, 0, 1, 1, 0, 0, 0, 0, 0, 0, 0, 0, 0, 0, 0, ...  \n",
       "1  [0, 0, 1, 1, 0, 0, 0, 0, 0, 0, 0, 0, 0, 0, 0, ...  \n",
       "2  [0, 0, 0, 0, 1, 0, 0, 0, 0, 0, 0, 0, 0, 0, 0, ...  \n",
       "3  [0, 0, 0, 0, 0, 0, 0, 0, 0, 0, 0, 0, 0, 0, 0, ...  \n",
       "4  [0, 0, 0, 0, 0, 0, 0, 0, 0, 0, 0, 0, 0, 0, 0, ...  \n",
       "\n",
       "[5 rows x 21 columns]"
      ]
     },
     "execution_count": 35,
     "metadata": {},
     "output_type": "execute_result"
    }
   ],
   "source": [
    "jobs_pip = pd.merge(jobs, pip, how='outer', on=['pip_account_id'])\n",
    "print ('jobs_pip.shape: ', jobs_pip.shape)\n",
    "jobs_pip.head(n=5)"
   ]
  },
  {
   "cell_type": "markdown",
   "metadata": {},
   "source": [
    "# Let's remove jobs with no potential matches\n",
    "Those in which the pip_account_id did not match a record. There are 64 records in the Pip data without a potential row in the jobs data base solely on pip_account_id."
   ]
  },
  {
   "cell_type": "markdown",
   "metadata": {},
   "source": [
    "### Remove the orphan jobs"
   ]
  },
  {
   "cell_type": "code",
   "execution_count": 37,
   "metadata": {
    "collapsed": false
   },
   "outputs": [
    {
     "name": "stdout",
     "output_type": "stream",
     "text": [
      "jobs_pip.shape:  (1449237, 21)\n"
     ]
    }
   ],
   "source": [
    "jobs_pip = jobs_pip[pd.isnull(jobs_pip.transaction_dt) == False]\n",
    "print ('jobs_pip.shape: ', jobs_pip.shape)"
   ]
  },
  {
   "cell_type": "markdown",
   "metadata": {},
   "source": [
    "# Assumption: The timezones between jobs.date_created and pip.date_created are the same\n",
    "# Assumption: The timestamp in a pip transaction record must be later than the timestamp in the jobs records.  \n",
    "This could potentially be a faulty assumption if the timestamps are not recorded as expected.  Some system might write a transaction to the logs some time after the event actually occured.  However, it seems reasonable to assume the timestamps are meaningful."
   ]
  },
  {
   "cell_type": "code",
   "execution_count": 38,
   "metadata": {
    "collapsed": false
   },
   "outputs": [
    {
     "data": {
      "text/plain": [
       "(755513, 21)"
      ]
     },
     "execution_count": 38,
     "metadata": {},
     "output_type": "execute_result"
    }
   ],
   "source": [
    "jobs_pip = jobs_pip[jobs_pip.job_epoch < jobs_pip.pip_epoch]\n",
    "jobs_pip.shape"
   ]
  },
  {
   "cell_type": "markdown",
   "metadata": {},
   "source": [
    "## Assumption: Pip transactions will occur withing X hours of the job timestamp.\n",
    "Let's begin with 24 hours"
   ]
  },
  {
   "cell_type": "code",
   "execution_count": 39,
   "metadata": {
    "collapsed": false
   },
   "outputs": [
    {
     "name": "stdout",
     "output_type": "stream",
     "text": [
      "jobs_pip.shape:  (145242, 21)\n"
     ]
    }
   ],
   "source": [
    "jobs_pip = jobs_pip[jobs_pip.job_epoch + 24*60*60 > jobs_pip.pip_epoch]\n",
    "print ('jobs_pip.shape: ', jobs_pip.shape)"
   ]
  },
  {
   "cell_type": "markdown",
   "metadata": {
    "collapsed": true
   },
   "source": [
    "# Add the restriction that pip.amount must be within 25% of jobs.purchase_price"
   ]
  },
  {
   "cell_type": "code",
   "execution_count": 40,
   "metadata": {
    "collapsed": false
   },
   "outputs": [
    {
     "name": "stdout",
     "output_type": "stream",
     "text": [
      "jobs_pip.shape:  (95305, 21)\n"
     ]
    },
    {
     "data": {
      "text/html": [
       "<div>\n",
       "<table border=\"1\" class=\"dataframe\">\n",
       "  <thead>\n",
       "    <tr style=\"text-align: right;\">\n",
       "      <th></th>\n",
       "      <th>job_uuid</th>\n",
       "      <th>date_created</th>\n",
       "      <th>courier_uuid</th>\n",
       "      <th>purchase_price</th>\n",
       "      <th>pip_account_id</th>\n",
       "      <th>business_name</th>\n",
       "      <th>street_address_1</th>\n",
       "      <th>street_address_2</th>\n",
       "      <th>city</th>\n",
       "      <th>state</th>\n",
       "      <th>...</th>\n",
       "      <th>job_epoch</th>\n",
       "      <th>0_x</th>\n",
       "      <th>transaction_id</th>\n",
       "      <th>transaction_dt</th>\n",
       "      <th>category</th>\n",
       "      <th>description</th>\n",
       "      <th>amount</th>\n",
       "      <th>transaction_code</th>\n",
       "      <th>pip_epoch</th>\n",
       "      <th>0_y</th>\n",
       "    </tr>\n",
       "  </thead>\n",
       "  <tbody>\n",
       "    <tr>\n",
       "      <th>5</th>\n",
       "      <td>55ff57fe-83d1-471c-bba8-444106f6a432</td>\n",
       "      <td>2015-11-02 22:48:00.765227</td>\n",
       "      <td>1da6fc9d-b192-46a6-971a-429d94ac333c</td>\n",
       "      <td>11.94</td>\n",
       "      <td>8363.0</td>\n",
       "      <td>Il Tramezzino</td>\n",
       "      <td>454 N Canon Dr</td>\n",
       "      <td>NaN</td>\n",
       "      <td>Beverly Hills</td>\n",
       "      <td>CA</td>\n",
       "      <td>...</td>\n",
       "      <td>1.446522e+09</td>\n",
       "      <td>[1, 1, 0, 0, 0, 0, 0, 0, 0, 0, 0, 0, 0, 0, 0, ...</td>\n",
       "      <td>4443152.0</td>\n",
       "      <td>2015-11-03 02:25:42</td>\n",
       "      <td>Restaurants</td>\n",
       "      <td>STARBUCKS #05758 BEVERLY, Beverly Hills, CA</td>\n",
       "      <td>-7.20</td>\n",
       "      <td>1300.0</td>\n",
       "      <td>1.446536e+09</td>\n",
       "      <td>[0, 0, 0, 0, 0, 0, 0, 1, 0, 0, 0, 0, 0, 0, 0, ...</td>\n",
       "    </tr>\n",
       "    <tr>\n",
       "      <th>10</th>\n",
       "      <td>55ff57fe-83d1-471c-bba8-444106f6a432</td>\n",
       "      <td>2015-11-02 22:48:00.765227</td>\n",
       "      <td>1da6fc9d-b192-46a6-971a-429d94ac333c</td>\n",
       "      <td>11.94</td>\n",
       "      <td>8363.0</td>\n",
       "      <td>Il Tramezzino</td>\n",
       "      <td>454 N Canon Dr</td>\n",
       "      <td>NaN</td>\n",
       "      <td>Beverly Hills</td>\n",
       "      <td>CA</td>\n",
       "      <td>...</td>\n",
       "      <td>1.446522e+09</td>\n",
       "      <td>[1, 1, 0, 0, 0, 0, 0, 0, 0, 0, 0, 0, 0, 0, 0, ...</td>\n",
       "      <td>4438164.0</td>\n",
       "      <td>2015-11-03 04:28:49</td>\n",
       "      <td>Restaurants</td>\n",
       "      <td>PHONOMENAL, WEST HOLLYWOO, CA</td>\n",
       "      <td>-10.96</td>\n",
       "      <td>1300.0</td>\n",
       "      <td>1.446543e+09</td>\n",
       "      <td>[0, 0, 0, 0, 0, 0, 0, 0, 0, 0, 0, 0, 0, 0, 0, ...</td>\n",
       "    </tr>\n",
       "    <tr>\n",
       "      <th>11</th>\n",
       "      <td>55ff57fe-83d1-471c-bba8-444106f6a432</td>\n",
       "      <td>2015-11-02 22:48:00.765227</td>\n",
       "      <td>1da6fc9d-b192-46a6-971a-429d94ac333c</td>\n",
       "      <td>11.94</td>\n",
       "      <td>8363.0</td>\n",
       "      <td>Il Tramezzino</td>\n",
       "      <td>454 N Canon Dr</td>\n",
       "      <td>NaN</td>\n",
       "      <td>Beverly Hills</td>\n",
       "      <td>CA</td>\n",
       "      <td>...</td>\n",
       "      <td>1.446522e+09</td>\n",
       "      <td>[1, 1, 0, 0, 0, 0, 0, 0, 0, 0, 0, 0, 0, 0, 0, ...</td>\n",
       "      <td>4455065.0</td>\n",
       "      <td>2015-11-03 19:42:27</td>\n",
       "      <td>Restaurants</td>\n",
       "      <td>CABBAGE PATCH - BEVERL, BEVERLY HILLS, CA</td>\n",
       "      <td>-14.17</td>\n",
       "      <td>1300.0</td>\n",
       "      <td>1.446598e+09</td>\n",
       "      <td>[0, 0, 0, 0, 0, 0, 0, 0, 0, 0, 0, 0, 0, 0, 0, ...</td>\n",
       "    </tr>\n",
       "    <tr>\n",
       "      <th>17</th>\n",
       "      <td>55ff57fe-83d1-471c-bba8-444106f6a432</td>\n",
       "      <td>2015-11-02 22:48:00.765227</td>\n",
       "      <td>1da6fc9d-b192-46a6-971a-429d94ac333c</td>\n",
       "      <td>11.94</td>\n",
       "      <td>8363.0</td>\n",
       "      <td>Il Tramezzino</td>\n",
       "      <td>454 N Canon Dr</td>\n",
       "      <td>NaN</td>\n",
       "      <td>Beverly Hills</td>\n",
       "      <td>CA</td>\n",
       "      <td>...</td>\n",
       "      <td>1.446522e+09</td>\n",
       "      <td>[1, 1, 0, 0, 0, 0, 0, 0, 0, 0, 0, 0, 0, 0, 0, ...</td>\n",
       "      <td>4461227.0</td>\n",
       "      <td>2015-11-03 22:40:32</td>\n",
       "      <td>Restaurants</td>\n",
       "      <td>TENDER GREENS CULVER C, CULVER CITY, CA</td>\n",
       "      <td>-11.95</td>\n",
       "      <td>1300.0</td>\n",
       "      <td>1.446608e+09</td>\n",
       "      <td>[0, 0, 0, 0, 0, 0, 0, 0, 0, 0, 0, 0, 0, 0, 0, ...</td>\n",
       "    </tr>\n",
       "    <tr>\n",
       "      <th>60</th>\n",
       "      <td>cb7076ed-88e7-4098-8c8b-6db984623188</td>\n",
       "      <td>2015-11-03 00:09:51.26556</td>\n",
       "      <td>1da6fc9d-b192-46a6-971a-429d94ac333c</td>\n",
       "      <td>541.73</td>\n",
       "      <td>8363.0</td>\n",
       "      <td>Apple Store</td>\n",
       "      <td>8500 Beverly Blvd</td>\n",
       "      <td>NaN</td>\n",
       "      <td>Los Angeles</td>\n",
       "      <td>CA</td>\n",
       "      <td>...</td>\n",
       "      <td>1.446527e+09</td>\n",
       "      <td>[0, 0, 1, 1, 0, 0, 0, 0, 0, 0, 0, 0, 0, 0, 0, ...</td>\n",
       "      <td>4435552.0</td>\n",
       "      <td>2015-11-03 00:24:47</td>\n",
       "      <td>Retail Stores</td>\n",
       "      <td>APPLE STORE  #R124, LOS ANGELES, CA</td>\n",
       "      <td>-200.00</td>\n",
       "      <td>1300.0</td>\n",
       "      <td>1.446528e+09</td>\n",
       "      <td>[0, 0, 1, 1, 0, 0, 0, 0, 0, 0, 0, 0, 0, 0, 0, ...</td>\n",
       "    </tr>\n",
       "  </tbody>\n",
       "</table>\n",
       "<p>5 rows × 21 columns</p>\n",
       "</div>"
      ],
      "text/plain": [
       "                                job_uuid                date_created  \\\n",
       "5   55ff57fe-83d1-471c-bba8-444106f6a432  2015-11-02 22:48:00.765227   \n",
       "10  55ff57fe-83d1-471c-bba8-444106f6a432  2015-11-02 22:48:00.765227   \n",
       "11  55ff57fe-83d1-471c-bba8-444106f6a432  2015-11-02 22:48:00.765227   \n",
       "17  55ff57fe-83d1-471c-bba8-444106f6a432  2015-11-02 22:48:00.765227   \n",
       "60  cb7076ed-88e7-4098-8c8b-6db984623188   2015-11-03 00:09:51.26556   \n",
       "\n",
       "                            courier_uuid  purchase_price  pip_account_id  \\\n",
       "5   1da6fc9d-b192-46a6-971a-429d94ac333c           11.94          8363.0   \n",
       "10  1da6fc9d-b192-46a6-971a-429d94ac333c           11.94          8363.0   \n",
       "11  1da6fc9d-b192-46a6-971a-429d94ac333c           11.94          8363.0   \n",
       "17  1da6fc9d-b192-46a6-971a-429d94ac333c           11.94          8363.0   \n",
       "60  1da6fc9d-b192-46a6-971a-429d94ac333c          541.73          8363.0   \n",
       "\n",
       "    business_name   street_address_1 street_address_2           city state  \\\n",
       "5   Il Tramezzino     454 N Canon Dr              NaN  Beverly Hills    CA   \n",
       "10  Il Tramezzino     454 N Canon Dr              NaN  Beverly Hills    CA   \n",
       "11  Il Tramezzino     454 N Canon Dr              NaN  Beverly Hills    CA   \n",
       "17  Il Tramezzino     454 N Canon Dr              NaN  Beverly Hills    CA   \n",
       "60    Apple Store  8500 Beverly Blvd              NaN    Los Angeles    CA   \n",
       "\n",
       "                          ...                             job_epoch  \\\n",
       "5                         ...                          1.446522e+09   \n",
       "10                        ...                          1.446522e+09   \n",
       "11                        ...                          1.446522e+09   \n",
       "17                        ...                          1.446522e+09   \n",
       "60                        ...                          1.446527e+09   \n",
       "\n",
       "                                                  0_x transaction_id  \\\n",
       "5   [1, 1, 0, 0, 0, 0, 0, 0, 0, 0, 0, 0, 0, 0, 0, ...      4443152.0   \n",
       "10  [1, 1, 0, 0, 0, 0, 0, 0, 0, 0, 0, 0, 0, 0, 0, ...      4438164.0   \n",
       "11  [1, 1, 0, 0, 0, 0, 0, 0, 0, 0, 0, 0, 0, 0, 0, ...      4455065.0   \n",
       "17  [1, 1, 0, 0, 0, 0, 0, 0, 0, 0, 0, 0, 0, 0, 0, ...      4461227.0   \n",
       "60  [0, 0, 1, 1, 0, 0, 0, 0, 0, 0, 0, 0, 0, 0, 0, ...      4435552.0   \n",
       "\n",
       "         transaction_dt       category  \\\n",
       "5   2015-11-03 02:25:42    Restaurants   \n",
       "10  2015-11-03 04:28:49    Restaurants   \n",
       "11  2015-11-03 19:42:27    Restaurants   \n",
       "17  2015-11-03 22:40:32    Restaurants   \n",
       "60  2015-11-03 00:24:47  Retail Stores   \n",
       "\n",
       "                                    description  amount  transaction_code  \\\n",
       "5   STARBUCKS #05758 BEVERLY, Beverly Hills, CA   -7.20            1300.0   \n",
       "10                PHONOMENAL, WEST HOLLYWOO, CA  -10.96            1300.0   \n",
       "11    CABBAGE PATCH - BEVERL, BEVERLY HILLS, CA  -14.17            1300.0   \n",
       "17      TENDER GREENS CULVER C, CULVER CITY, CA  -11.95            1300.0   \n",
       "60          APPLE STORE  #R124, LOS ANGELES, CA -200.00            1300.0   \n",
       "\n",
       "       pip_epoch                                                0_y  \n",
       "5   1.446536e+09  [0, 0, 0, 0, 0, 0, 0, 1, 0, 0, 0, 0, 0, 0, 0, ...  \n",
       "10  1.446543e+09  [0, 0, 0, 0, 0, 0, 0, 0, 0, 0, 0, 0, 0, 0, 0, ...  \n",
       "11  1.446598e+09  [0, 0, 0, 0, 0, 0, 0, 0, 0, 0, 0, 0, 0, 0, 0, ...  \n",
       "17  1.446608e+09  [0, 0, 0, 0, 0, 0, 0, 0, 0, 0, 0, 0, 0, 0, 0, ...  \n",
       "60  1.446528e+09  [0, 0, 1, 1, 0, 0, 0, 0, 0, 0, 0, 0, 0, 0, 0, ...  \n",
       "\n",
       "[5 rows x 21 columns]"
      ]
     },
     "execution_count": 40,
     "metadata": {},
     "output_type": "execute_result"
    }
   ],
   "source": [
    "jobs_pip = jobs_pip[(jobs_pip.purchase_price + jobs_pip.amount >= -jobs_pip.purchase_price * 0.25)]\n",
    "print ('jobs_pip.shape: ', jobs_pip.shape)\n",
    "jobs_pip.head()"
   ]
  },
  {
   "cell_type": "markdown",
   "metadata": {},
   "source": [
    "# Compute the simmilarity between the unigram vectors"
   ]
  },
  {
   "cell_type": "code",
   "execution_count": 41,
   "metadata": {
    "collapsed": false
   },
   "outputs": [
    {
     "data": {
      "text/html": [
       "<div>\n",
       "<table border=\"1\" class=\"dataframe\">\n",
       "  <thead>\n",
       "    <tr style=\"text-align: right;\">\n",
       "      <th></th>\n",
       "      <th>purchase_price</th>\n",
       "      <th>pip_account_id</th>\n",
       "      <th>job_epoch</th>\n",
       "      <th>transaction_id</th>\n",
       "      <th>amount</th>\n",
       "      <th>transaction_code</th>\n",
       "      <th>pip_epoch</th>\n",
       "      <th>sim</th>\n",
       "    </tr>\n",
       "  </thead>\n",
       "  <tbody>\n",
       "    <tr>\n",
       "      <th>count</th>\n",
       "      <td>95305.000000</td>\n",
       "      <td>95305.000000</td>\n",
       "      <td>9.530500e+04</td>\n",
       "      <td>9.530500e+04</td>\n",
       "      <td>95305.000000</td>\n",
       "      <td>95305.0</td>\n",
       "      <td>9.530500e+04</td>\n",
       "      <td>95305.000000</td>\n",
       "    </tr>\n",
       "    <tr>\n",
       "      <th>mean</th>\n",
       "      <td>36.196606</td>\n",
       "      <td>81045.433629</td>\n",
       "      <td>1.447018e+09</td>\n",
       "      <td>4.559209e+06</td>\n",
       "      <td>-19.303388</td>\n",
       "      <td>1300.0</td>\n",
       "      <td>1.447048e+09</td>\n",
       "      <td>0.036441</td>\n",
       "    </tr>\n",
       "    <tr>\n",
       "      <th>std</th>\n",
       "      <td>38.914667</td>\n",
       "      <td>26717.877924</td>\n",
       "      <td>3.720078e+05</td>\n",
       "      <td>9.255152e+04</td>\n",
       "      <td>18.890264</td>\n",
       "      <td>0.0</td>\n",
       "      <td>3.727519e+05</td>\n",
       "      <td>0.231701</td>\n",
       "    </tr>\n",
       "    <tr>\n",
       "      <th>min</th>\n",
       "      <td>0.070000</td>\n",
       "      <td>8363.000000</td>\n",
       "      <td>1.446350e+09</td>\n",
       "      <td>4.359866e+06</td>\n",
       "      <td>-1471.230000</td>\n",
       "      <td>1300.0</td>\n",
       "      <td>1.446351e+09</td>\n",
       "      <td>0.000000</td>\n",
       "    </tr>\n",
       "    <tr>\n",
       "      <th>25%</th>\n",
       "      <td>16.790000</td>\n",
       "      <td>62051.000000</td>\n",
       "      <td>1.446693e+09</td>\n",
       "      <td>4.482055e+06</td>\n",
       "      <td>-23.370000</td>\n",
       "      <td>1300.0</td>\n",
       "      <td>1.446710e+09</td>\n",
       "      <td>0.000000</td>\n",
       "    </tr>\n",
       "    <tr>\n",
       "      <th>50%</th>\n",
       "      <td>26.690000</td>\n",
       "      <td>89066.000000</td>\n",
       "      <td>1.447036e+09</td>\n",
       "      <td>4.557693e+06</td>\n",
       "      <td>-14.700000</td>\n",
       "      <td>1300.0</td>\n",
       "      <td>1.447054e+09</td>\n",
       "      <td>0.000000</td>\n",
       "    </tr>\n",
       "    <tr>\n",
       "      <th>75%</th>\n",
       "      <td>41.800000</td>\n",
       "      <td>101576.000000</td>\n",
       "      <td>1.447318e+09</td>\n",
       "      <td>4.634703e+06</td>\n",
       "      <td>-9.810000</td>\n",
       "      <td>1300.0</td>\n",
       "      <td>1.447374e+09</td>\n",
       "      <td>0.000000</td>\n",
       "    </tr>\n",
       "    <tr>\n",
       "      <th>max</th>\n",
       "      <td>1471.230000</td>\n",
       "      <td>122988.000000</td>\n",
       "      <td>1.447650e+09</td>\n",
       "      <td>4.985265e+06</td>\n",
       "      <td>-0.070000</td>\n",
       "      <td>1300.0</td>\n",
       "      <td>1.447650e+09</td>\n",
       "      <td>4.000000</td>\n",
       "    </tr>\n",
       "  </tbody>\n",
       "</table>\n",
       "</div>"
      ],
      "text/plain": [
       "       purchase_price  pip_account_id     job_epoch  transaction_id  \\\n",
       "count    95305.000000    95305.000000  9.530500e+04    9.530500e+04   \n",
       "mean        36.196606    81045.433629  1.447018e+09    4.559209e+06   \n",
       "std         38.914667    26717.877924  3.720078e+05    9.255152e+04   \n",
       "min          0.070000     8363.000000  1.446350e+09    4.359866e+06   \n",
       "25%         16.790000    62051.000000  1.446693e+09    4.482055e+06   \n",
       "50%         26.690000    89066.000000  1.447036e+09    4.557693e+06   \n",
       "75%         41.800000   101576.000000  1.447318e+09    4.634703e+06   \n",
       "max       1471.230000   122988.000000  1.447650e+09    4.985265e+06   \n",
       "\n",
       "             amount  transaction_code     pip_epoch           sim  \n",
       "count  95305.000000           95305.0  9.530500e+04  95305.000000  \n",
       "mean     -19.303388            1300.0  1.447048e+09      0.036441  \n",
       "std       18.890264               0.0  3.727519e+05      0.231701  \n",
       "min    -1471.230000            1300.0  1.446351e+09      0.000000  \n",
       "25%      -23.370000            1300.0  1.446710e+09      0.000000  \n",
       "50%      -14.700000            1300.0  1.447054e+09      0.000000  \n",
       "75%       -9.810000            1300.0  1.447374e+09      0.000000  \n",
       "max       -0.070000            1300.0  1.447650e+09      4.000000  "
      ]
     },
     "execution_count": 41,
     "metadata": {},
     "output_type": "execute_result"
    }
   ],
   "source": [
    "# Cosine sim was slow, just counting common words\n",
    "def common_elements(list1, list2):\n",
    "    result = 0\n",
    "    try:\n",
    "        if len(list1) == len(list2):\n",
    "            for i,element1 in enumerate(list1):\n",
    "                if element1 == 1 and element1 == list2[i]:\n",
    "                    result+=1\n",
    "    except:\n",
    "        #print (\"Something about the lists is wrong:\", sys.exc_info()[0])\n",
    "        pass\n",
    "    return result\n",
    "\n",
    "jobs_pip['sim'] = jobs_pip.transpose().apply(lambda x: common_elements(x['0_x'], x['0_y']))\n",
    "jobs_pip.describe()"
   ]
  },
  {
   "cell_type": "markdown",
   "metadata": {},
   "source": [
    "# We still need to drop over 70k transactions\n",
    "Let's look at the distribution of purchase_price + amount.  If the purchase_price is significantly less than the amount charged, it's likely not a match"
   ]
  },
  {
   "cell_type": "code",
   "execution_count": 42,
   "metadata": {
    "collapsed": false
   },
   "outputs": [
    {
     "name": "stderr",
     "output_type": "stream",
     "text": [
      "//anaconda/lib/python3.5/site-packages/statsmodels/nonparametric/kdetools.py:20: VisibleDeprecationWarning:\n",
      "\n",
      "using a non-integer number instead of an integer will result in an error in the future\n",
      "\n"
     ]
    },
    {
     "data": {
      "text/plain": [
       "count    95305.000000\n",
       "mean         0.344071\n",
       "std          0.337776\n",
       "min         -0.250000\n",
       "25%          0.000000\n",
       "50%          0.333469\n",
       "75%          0.636161\n",
       "max          0.999134\n",
       "Name: purchase_amount_diff, dtype: float64"
      ]
     },
     "execution_count": 42,
     "metadata": {},
     "output_type": "execute_result"
    },
    {
     "data": {
      "image/png": "[encoded data removed]",
      "text/plain": [
       "<matplotlib.figure.Figure at 0x1163fb0f0>"
      ]
     },
     "metadata": {},
     "output_type": "display_data"
    }
   ],
   "source": [
    "jobs_pip['purchase_amount_diff'] = jobs_pip.transpose().apply(lambda x: (x.purchase_price + x.amount) / x.purchase_price)\n",
    "sns.distplot(jobs_pip.purchase_amount_diff, kde=True).set(xlim=(-.5, 1))\n",
    "jobs_pip.purchase_amount_diff.describe()"
   ]
  },
  {
   "cell_type": "markdown",
   "metadata": {},
   "source": [
    "# If we examine the KDE line above one can observe the multi-modal nature of the distribution.  \n",
    "If we want to isolate the distribution surronding 0 we will invariably pick up some cases from the second and incorrect distribution.  We can assine a probability of correctness by examining the z-score.  However, at this time I will not begin a probabalistic model and will simple split the distributions at 0.2."
   ]
  },
  {
   "cell_type": "code",
   "execution_count": 43,
   "metadata": {
    "collapsed": false
   },
   "outputs": [
    {
     "name": "stdout",
     "output_type": "stream",
     "text": [
      "jobs_pip.shape:  (38764, 23)\n"
     ]
    },
    {
     "name": "stderr",
     "output_type": "stream",
     "text": [
      "//anaconda/lib/python3.5/site-packages/statsmodels/nonparametric/kdetools.py:20: VisibleDeprecationWarning:\n",
      "\n",
      "using a non-integer number instead of an integer will result in an error in the future\n",
      "\n"
     ]
    },
    {
     "data": {
      "text/plain": [
       "count    38764.000000\n",
       "mean        -0.004088\n",
       "std          0.098040\n",
       "min         -0.250000\n",
       "25%         -0.030601\n",
       "50%          0.000000\n",
       "75%          0.033613\n",
       "max          0.200000\n",
       "Name: purchase_amount_diff, dtype: float64"
      ]
     },
     "execution_count": 43,
     "metadata": {},
     "output_type": "execute_result"
    },
    {
     "data": {
      "image/png": "[encoded data removed]",
      "text/plain": [
       "<matplotlib.figure.Figure at 0x116c73e10>"
      ]
     },
     "metadata": {},
     "output_type": "display_data"
    }
   ],
   "source": [
    "jobs_pip = jobs_pip[jobs_pip.purchase_amount_diff < 0.2]\n",
    "sns.distplot(jobs_pip.purchase_amount_diff, kde=True).set(xlim=(-.5, .25))\n",
    "print ('jobs_pip.shape: ', jobs_pip.shape)\n",
    "jobs_pip.purchase_amount_diff.describe()"
   ]
  },
  {
   "cell_type": "markdown",
   "metadata": {},
   "source": [
    "# We are still high by a factor of 2\n",
    "Let's group by job_uuid and see if we can tell what differences.  It looks like the purchase_amount_diff is 0 for many of these.  If a job_uuid is matched with a transaction where the purchase_amount_diff is 0, let's assume they are a match."
   ]
  },
  {
   "cell_type": "code",
   "execution_count": 45,
   "metadata": {
    "collapsed": false,
    "scrolled": false
   },
   "outputs": [
    {
     "data": {
      "text/plain": [
       "(15952, 23)"
      ]
     },
     "execution_count": 45,
     "metadata": {},
     "output_type": "execute_result"
    }
   ],
   "source": [
    "jobs_pip_match = jobs_pip[jobs_pip.purchase_amount_diff == 0]\n",
    "jobs_pip_match.shape"
   ]
  },
  {
   "cell_type": "markdown",
   "metadata": {},
   "source": [
    "# Make a list of all the jobs for which we do not have ambiguity at this point"
   ]
  },
  {
   "cell_type": "code",
   "execution_count": 46,
   "metadata": {
    "collapsed": false
   },
   "outputs": [
    {
     "data": {
      "text/plain": [
       "(15622, 2)"
      ]
     },
     "execution_count": 46,
     "metadata": {},
     "output_type": "execute_result"
    }
   ],
   "source": [
    "jobs_pip_grp = jobs_pip_match.groupby(by='job_uuid').count().reset_index()\n",
    "jobs_pip_grp = jobs_pip_grp[['job_uuid', 'date_created']]\n",
    "jobs_pip_grp.columns = ['job_uuid', 'count']\n",
    "jobs_pip_grp = jobs_pip_grp[jobs_pip_grp['count'] == 1]\n",
    "jobs_pip_grp.shape"
   ]
  },
  {
   "cell_type": "markdown",
   "metadata": {},
   "source": [
    "# Use above list to generate a set of transaction that does not contain duplicates\n",
    "It will, of course, not be a comprehensive list"
   ]
  },
  {
   "cell_type": "code",
   "execution_count": 48,
   "metadata": {
    "collapsed": false,
    "scrolled": false
   },
   "outputs": [
    {
     "name": "stdout",
     "output_type": "stream",
     "text": [
      "jobs_pip_sub.shape:  (15622, 23)\n"
     ]
    },
    {
     "data": {
      "text/html": [
       "<div>\n",
       "<table border=\"1\" class=\"dataframe\">\n",
       "  <thead>\n",
       "    <tr style=\"text-align: right;\">\n",
       "      <th></th>\n",
       "      <th>job_uuid</th>\n",
       "      <th>date_created</th>\n",
       "      <th>courier_uuid</th>\n",
       "      <th>purchase_price</th>\n",
       "      <th>pip_account_id</th>\n",
       "      <th>business_name</th>\n",
       "      <th>street_address_1</th>\n",
       "      <th>street_address_2</th>\n",
       "      <th>city</th>\n",
       "      <th>state</th>\n",
       "      <th>...</th>\n",
       "      <th>transaction_id</th>\n",
       "      <th>transaction_dt</th>\n",
       "      <th>category</th>\n",
       "      <th>description</th>\n",
       "      <th>amount</th>\n",
       "      <th>transaction_code</th>\n",
       "      <th>pip_epoch</th>\n",
       "      <th>0_y</th>\n",
       "      <th>sim</th>\n",
       "      <th>purchase_amount_diff</th>\n",
       "    </tr>\n",
       "  </thead>\n",
       "  <tbody>\n",
       "    <tr>\n",
       "      <th>122</th>\n",
       "      <td>fb86438f-8952-4398-8e5c-f509338f1851</td>\n",
       "      <td>2015-11-03 01:38:14.457542</td>\n",
       "      <td>1da6fc9d-b192-46a6-971a-429d94ac333c</td>\n",
       "      <td>49.32</td>\n",
       "      <td>8363.0</td>\n",
       "      <td>Fish Grill Restaurant</td>\n",
       "      <td>9618 W Pico Blvd</td>\n",
       "      <td>NaN</td>\n",
       "      <td>Los Angeles</td>\n",
       "      <td>CA</td>\n",
       "      <td>...</td>\n",
       "      <td>4440375.0</td>\n",
       "      <td>2015-11-03 01:55:04</td>\n",
       "      <td>Restaurants</td>\n",
       "      <td>FISH GRILL, LOS ANGELES, CA</td>\n",
       "      <td>-49.32</td>\n",
       "      <td>1300.0</td>\n",
       "      <td>1.446534e+09</td>\n",
       "      <td>[0, 0, 0, 0, 1, 0, 0, 0, 0, 0, 0, 0, 0, 0, 0, ...</td>\n",
       "      <td>1</td>\n",
       "      <td>0.0</td>\n",
       "    </tr>\n",
       "    <tr>\n",
       "      <th>185</th>\n",
       "      <td>eff38a8e-6b32-477c-9515-7f698c242048</td>\n",
       "      <td>2015-11-03 01:58:25.297675</td>\n",
       "      <td>1da6fc9d-b192-46a6-971a-429d94ac333c</td>\n",
       "      <td>7.20</td>\n",
       "      <td>8363.0</td>\n",
       "      <td>Starbucks</td>\n",
       "      <td>9718 Washington Blvd</td>\n",
       "      <td>NaN</td>\n",
       "      <td>Culver City</td>\n",
       "      <td>CA</td>\n",
       "      <td>...</td>\n",
       "      <td>4443152.0</td>\n",
       "      <td>2015-11-03 02:25:42</td>\n",
       "      <td>Restaurants</td>\n",
       "      <td>STARBUCKS #05758 BEVERLY, Beverly Hills, CA</td>\n",
       "      <td>-7.20</td>\n",
       "      <td>1300.0</td>\n",
       "      <td>1.446536e+09</td>\n",
       "      <td>[0, 0, 0, 0, 0, 0, 0, 1, 0, 0, 0, 0, 0, 0, 0, ...</td>\n",
       "      <td>1</td>\n",
       "      <td>0.0</td>\n",
       "    </tr>\n",
       "  </tbody>\n",
       "</table>\n",
       "<p>2 rows × 23 columns</p>\n",
       "</div>"
      ],
      "text/plain": [
       "                                 job_uuid                date_created  \\\n",
       "122  fb86438f-8952-4398-8e5c-f509338f1851  2015-11-03 01:38:14.457542   \n",
       "185  eff38a8e-6b32-477c-9515-7f698c242048  2015-11-03 01:58:25.297675   \n",
       "\n",
       "                             courier_uuid  purchase_price  pip_account_id  \\\n",
       "122  1da6fc9d-b192-46a6-971a-429d94ac333c           49.32          8363.0   \n",
       "185  1da6fc9d-b192-46a6-971a-429d94ac333c            7.20          8363.0   \n",
       "\n",
       "             business_name      street_address_1 street_address_2  \\\n",
       "122  Fish Grill Restaurant      9618 W Pico Blvd              NaN   \n",
       "185              Starbucks  9718 Washington Blvd              NaN   \n",
       "\n",
       "            city state          ...          transaction_id  \\\n",
       "122  Los Angeles    CA          ...               4440375.0   \n",
       "185  Culver City    CA          ...               4443152.0   \n",
       "\n",
       "          transaction_dt     category  \\\n",
       "122  2015-11-03 01:55:04  Restaurants   \n",
       "185  2015-11-03 02:25:42  Restaurants   \n",
       "\n",
       "                                     description amount transaction_code  \\\n",
       "122                  FISH GRILL, LOS ANGELES, CA -49.32           1300.0   \n",
       "185  STARBUCKS #05758 BEVERLY, Beverly Hills, CA  -7.20           1300.0   \n",
       "\n",
       "        pip_epoch                                                0_y  sim  \\\n",
       "122  1.446534e+09  [0, 0, 0, 0, 1, 0, 0, 0, 0, 0, 0, 0, 0, 0, 0, ...    1   \n",
       "185  1.446536e+09  [0, 0, 0, 0, 0, 0, 0, 1, 0, 0, 0, 0, 0, 0, 0, ...    1   \n",
       "\n",
       "     purchase_amount_diff  \n",
       "122                   0.0  \n",
       "185                   0.0  \n",
       "\n",
       "[2 rows x 23 columns]"
      ]
     },
     "execution_count": 48,
     "metadata": {},
     "output_type": "execute_result"
    }
   ],
   "source": [
    "jobs_pip_bool = jobs_pip_match.job_uuid.isin(jobs_pip_grp.job_uuid) \n",
    "jobs_pip_sub = jobs_pip_match[jobs_pip_bool]\n",
    "print ('jobs_pip_sub.shape: ', jobs_pip_sub.shape)\n",
    "jobs_pip_sub.head(n=2)"
   ]
  },
  {
   "cell_type": "markdown",
   "metadata": {},
   "source": [
    "# Verify you don't have duplicates in the subset"
   ]
  },
  {
   "cell_type": "code",
   "execution_count": 49,
   "metadata": {
    "collapsed": false
   },
   "outputs": [
    {
     "data": {
      "text/plain": [
       "1"
      ]
     },
     "execution_count": 49,
     "metadata": {},
     "output_type": "execute_result"
    }
   ],
   "source": [
    "jobs_pip_grp = jobs_pip_sub.groupby(by='job_uuid').count().reset_index()\n",
    "jobs_pip_grp.date_created.max()"
   ]
  },
  {
   "cell_type": "markdown",
   "metadata": {},
   "source": [
    "# What does the remaining set look like?"
   ]
  },
  {
   "cell_type": "code",
   "execution_count": 50,
   "metadata": {
    "collapsed": false,
    "scrolled": false
   },
   "outputs": [
    {
     "data": {
      "text/plain": [
       "14"
      ]
     },
     "execution_count": 50,
     "metadata": {},
     "output_type": "execute_result"
    }
   ],
   "source": [
    "# We stil have a bunch of dups in the full set, right?\n",
    "jobs_pip_grp = jobs_pip.groupby(by='job_uuid').count().reset_index()\n",
    "jobs_pip_grp.date_created.max()"
   ]
  },
  {
   "cell_type": "code",
   "execution_count": 85,
   "metadata": {
    "collapsed": false
   },
   "outputs": [
    {
     "data": {
      "text/plain": [
       "(4668, 23)"
      ]
     },
     "execution_count": 85,
     "metadata": {},
     "output_type": "execute_result"
    }
   ],
   "source": [
    "jobs_pip_potential_issues = jobs_pip[~jobs_pip.job_uuid.isin(jobs_pip_sub.job_uuid)]\n",
    "jobs_pip_potential_issues.shape"
   ]
  },
  {
   "cell_type": "code",
   "execution_count": 86,
   "metadata": {
    "collapsed": false
   },
   "outputs": [
    {
     "data": {
      "text/html": [
       "<div>\n",
       "<table border=\"1\" class=\"dataframe\">\n",
       "  <thead>\n",
       "    <tr style=\"text-align: right;\">\n",
       "      <th></th>\n",
       "      <th>purchase_price</th>\n",
       "      <th>pip_account_id</th>\n",
       "      <th>job_epoch</th>\n",
       "      <th>transaction_id</th>\n",
       "      <th>amount</th>\n",
       "      <th>transaction_code</th>\n",
       "      <th>pip_epoch</th>\n",
       "      <th>sim</th>\n",
       "      <th>purchase_amount_diff</th>\n",
       "    </tr>\n",
       "  </thead>\n",
       "  <tbody>\n",
       "    <tr>\n",
       "      <th>count</th>\n",
       "      <td>4668.000000</td>\n",
       "      <td>4668.000000</td>\n",
       "      <td>4.668000e+03</td>\n",
       "      <td>4.668000e+03</td>\n",
       "      <td>4668.000000</td>\n",
       "      <td>4668.0</td>\n",
       "      <td>4.668000e+03</td>\n",
       "      <td>4668.000000</td>\n",
       "      <td>4668.000000</td>\n",
       "    </tr>\n",
       "    <tr>\n",
       "      <th>mean</th>\n",
       "      <td>25.457725</td>\n",
       "      <td>78777.993145</td>\n",
       "      <td>1.447001e+09</td>\n",
       "      <td>4.556536e+06</td>\n",
       "      <td>-25.359938</td>\n",
       "      <td>1300.0</td>\n",
       "      <td>1.447035e+09</td>\n",
       "      <td>0.038989</td>\n",
       "      <td>-0.004923</td>\n",
       "    </tr>\n",
       "    <tr>\n",
       "      <th>std</th>\n",
       "      <td>22.403027</td>\n",
       "      <td>27176.800375</td>\n",
       "      <td>3.594875e+05</td>\n",
       "      <td>8.933763e+04</td>\n",
       "      <td>21.300511</td>\n",
       "      <td>0.0</td>\n",
       "      <td>3.596821e+05</td>\n",
       "      <td>0.235532</td>\n",
       "      <td>0.121170</td>\n",
       "    </tr>\n",
       "    <tr>\n",
       "      <th>min</th>\n",
       "      <td>2.250000</td>\n",
       "      <td>8363.000000</td>\n",
       "      <td>1.446350e+09</td>\n",
       "      <td>4.379187e+06</td>\n",
       "      <td>-774.160000</td>\n",
       "      <td>1300.0</td>\n",
       "      <td>1.446353e+09</td>\n",
       "      <td>0.000000</td>\n",
       "      <td>-0.250000</td>\n",
       "    </tr>\n",
       "    <tr>\n",
       "      <th>25%</th>\n",
       "      <td>14.170000</td>\n",
       "      <td>57945.000000</td>\n",
       "      <td>1.446772e+09</td>\n",
       "      <td>4.491512e+06</td>\n",
       "      <td>-30.520000</td>\n",
       "      <td>1300.0</td>\n",
       "      <td>1.446798e+09</td>\n",
       "      <td>0.000000</td>\n",
       "      <td>-0.099109</td>\n",
       "    </tr>\n",
       "    <tr>\n",
       "      <th>50%</th>\n",
       "      <td>20.680000</td>\n",
       "      <td>87026.000000</td>\n",
       "      <td>1.446970e+09</td>\n",
       "      <td>4.548747e+06</td>\n",
       "      <td>-20.620000</td>\n",
       "      <td>1300.0</td>\n",
       "      <td>1.447021e+09</td>\n",
       "      <td>0.000000</td>\n",
       "      <td>0.000000</td>\n",
       "    </tr>\n",
       "    <tr>\n",
       "      <th>75%</th>\n",
       "      <td>30.520000</td>\n",
       "      <td>99963.000000</td>\n",
       "      <td>1.447307e+09</td>\n",
       "      <td>4.629394e+06</td>\n",
       "      <td>-14.120000</td>\n",
       "      <td>1300.0</td>\n",
       "      <td>1.447324e+09</td>\n",
       "      <td>0.000000</td>\n",
       "      <td>0.093598</td>\n",
       "    </tr>\n",
       "    <tr>\n",
       "      <th>max</th>\n",
       "      <td>888.310000</td>\n",
       "      <td>122988.000000</td>\n",
       "      <td>1.447650e+09</td>\n",
       "      <td>4.815140e+06</td>\n",
       "      <td>-2.450000</td>\n",
       "      <td>1300.0</td>\n",
       "      <td>1.447650e+09</td>\n",
       "      <td>4.000000</td>\n",
       "      <td>0.200000</td>\n",
       "    </tr>\n",
       "  </tbody>\n",
       "</table>\n",
       "</div>"
      ],
      "text/plain": [
       "       purchase_price  pip_account_id     job_epoch  transaction_id  \\\n",
       "count     4668.000000     4668.000000  4.668000e+03    4.668000e+03   \n",
       "mean        25.457725    78777.993145  1.447001e+09    4.556536e+06   \n",
       "std         22.403027    27176.800375  3.594875e+05    8.933763e+04   \n",
       "min          2.250000     8363.000000  1.446350e+09    4.379187e+06   \n",
       "25%         14.170000    57945.000000  1.446772e+09    4.491512e+06   \n",
       "50%         20.680000    87026.000000  1.446970e+09    4.548747e+06   \n",
       "75%         30.520000    99963.000000  1.447307e+09    4.629394e+06   \n",
       "max        888.310000   122988.000000  1.447650e+09    4.815140e+06   \n",
       "\n",
       "            amount  transaction_code     pip_epoch          sim  \\\n",
       "count  4668.000000            4668.0  4.668000e+03  4668.000000   \n",
       "mean    -25.359938            1300.0  1.447035e+09     0.038989   \n",
       "std      21.300511               0.0  3.596821e+05     0.235532   \n",
       "min    -774.160000            1300.0  1.446353e+09     0.000000   \n",
       "25%     -30.520000            1300.0  1.446798e+09     0.000000   \n",
       "50%     -20.620000            1300.0  1.447021e+09     0.000000   \n",
       "75%     -14.120000            1300.0  1.447324e+09     0.000000   \n",
       "max      -2.450000            1300.0  1.447650e+09     4.000000   \n",
       "\n",
       "       purchase_amount_diff  \n",
       "count           4668.000000  \n",
       "mean              -0.004923  \n",
       "std                0.121170  \n",
       "min               -0.250000  \n",
       "25%               -0.099109  \n",
       "50%                0.000000  \n",
       "75%                0.093598  \n",
       "max                0.200000  "
      ]
     },
     "execution_count": 86,
     "metadata": {},
     "output_type": "execute_result"
    }
   ],
   "source": [
    "jobs_pip_potential_issues.describe()"
   ]
  },
  {
   "cell_type": "code",
   "execution_count": 87,
   "metadata": {
    "collapsed": false
   },
   "outputs": [
    {
     "data": {
      "text/html": [
       "<div>\n",
       "<table border=\"1\" class=\"dataframe\">\n",
       "  <thead>\n",
       "    <tr style=\"text-align: right;\">\n",
       "      <th></th>\n",
       "      <th>job_uuid</th>\n",
       "      <th>max_sim</th>\n",
       "    </tr>\n",
       "  </thead>\n",
       "  <tbody>\n",
       "    <tr>\n",
       "      <th>0</th>\n",
       "      <td>003b4782-6667-4d3a-ab2c-9a4460a00946</td>\n",
       "      <td>0</td>\n",
       "    </tr>\n",
       "  </tbody>\n",
       "</table>\n",
       "</div>"
      ],
      "text/plain": [
       "                               job_uuid  max_sim\n",
       "0  003b4782-6667-4d3a-ab2c-9a4460a00946        0"
      ]
     },
     "execution_count": 87,
     "metadata": {},
     "output_type": "execute_result"
    }
   ],
   "source": [
    "jobs_pip_grp = jobs_pip_potential_issues.groupby(by='job_uuid').max().reset_index()\n",
    "jobs_pip_grp = jobs_pip_grp[['job_uuid', 'sim']]\n",
    "jobs_pip_grp.columns = ['job_uuid', 'max_sim']\n",
    "jobs_pip_grp.head(n=1)"
   ]
  },
  {
   "cell_type": "code",
   "execution_count": 68,
   "metadata": {
    "collapsed": false
   },
   "outputs": [
    {
     "name": "stdout",
     "output_type": "stream",
     "text": [
      "(4668, 24)\n"
     ]
    },
    {
     "data": {
      "text/plain": [
       "(4459, 24)"
      ]
     },
     "execution_count": 68,
     "metadata": {},
     "output_type": "execute_result"
    }
   ],
   "source": [
    "jobs_pip_potential_issues = pd.merge(jobs_pip_potential_issues, jobs_pip_grp)\n",
    "print (jobs_pip_potential_issues.shape)\n",
    "jobs_pip_potential_issues = jobs_pip_potential_issues[jobs_pip_potential_issues.sim == jobs_pip_potential_issues.max_sim]\n",
    "jobs_pip_potential_issues.shape"
   ]
  },
  {
   "cell_type": "code",
   "execution_count": 88,
   "metadata": {
    "collapsed": false
   },
   "outputs": [
    {
     "name": "stdout",
     "output_type": "stream",
     "text": [
      "(2119, 23)\n"
     ]
    },
    {
     "data": {
      "text/html": [
       "<div>\n",
       "<table border=\"1\" class=\"dataframe\">\n",
       "  <thead>\n",
       "    <tr style=\"text-align: right;\">\n",
       "      <th></th>\n",
       "      <th>purchase_price</th>\n",
       "      <th>pip_account_id</th>\n",
       "      <th>job_epoch</th>\n",
       "      <th>transaction_id</th>\n",
       "      <th>amount</th>\n",
       "      <th>transaction_code</th>\n",
       "      <th>pip_epoch</th>\n",
       "      <th>sim</th>\n",
       "      <th>purchase_amount_diff</th>\n",
       "    </tr>\n",
       "  </thead>\n",
       "  <tbody>\n",
       "    <tr>\n",
       "      <th>count</th>\n",
       "      <td>2119.000000</td>\n",
       "      <td>2119.000000</td>\n",
       "      <td>2.119000e+03</td>\n",
       "      <td>2.119000e+03</td>\n",
       "      <td>2119.000000</td>\n",
       "      <td>2119.0</td>\n",
       "      <td>2.119000e+03</td>\n",
       "      <td>2119.000000</td>\n",
       "      <td>2119.000000</td>\n",
       "    </tr>\n",
       "    <tr>\n",
       "      <th>mean</th>\n",
       "      <td>24.133860</td>\n",
       "      <td>79859.873997</td>\n",
       "      <td>1.446995e+09</td>\n",
       "      <td>4.555297e+06</td>\n",
       "      <td>-26.779844</td>\n",
       "      <td>1300.0</td>\n",
       "      <td>1.447030e+09</td>\n",
       "      <td>0.035866</td>\n",
       "      <td>-0.114649</td>\n",
       "    </tr>\n",
       "    <tr>\n",
       "      <th>std</th>\n",
       "      <td>17.142428</td>\n",
       "      <td>26542.815855</td>\n",
       "      <td>3.623496e+05</td>\n",
       "      <td>9.027233e+04</td>\n",
       "      <td>18.646143</td>\n",
       "      <td>0.0</td>\n",
       "      <td>3.631691e+05</td>\n",
       "      <td>0.229210</td>\n",
       "      <td>0.073690</td>\n",
       "    </tr>\n",
       "    <tr>\n",
       "      <th>min</th>\n",
       "      <td>2.250000</td>\n",
       "      <td>8363.000000</td>\n",
       "      <td>1.446350e+09</td>\n",
       "      <td>4.379187e+06</td>\n",
       "      <td>-236.530000</td>\n",
       "      <td>1300.0</td>\n",
       "      <td>1.446354e+09</td>\n",
       "      <td>0.000000</td>\n",
       "      <td>-0.250000</td>\n",
       "    </tr>\n",
       "    <tr>\n",
       "      <th>25%</th>\n",
       "      <td>13.795000</td>\n",
       "      <td>61112.000000</td>\n",
       "      <td>1.446744e+09</td>\n",
       "      <td>4.490941e+06</td>\n",
       "      <td>-32.130000</td>\n",
       "      <td>1300.0</td>\n",
       "      <td>1.446780e+09</td>\n",
       "      <td>0.000000</td>\n",
       "      <td>-0.175173</td>\n",
       "    </tr>\n",
       "    <tr>\n",
       "      <th>50%</th>\n",
       "      <td>19.950000</td>\n",
       "      <td>87043.000000</td>\n",
       "      <td>1.446963e+09</td>\n",
       "      <td>4.544459e+06</td>\n",
       "      <td>-22.070000</td>\n",
       "      <td>1300.0</td>\n",
       "      <td>1.446983e+09</td>\n",
       "      <td>0.000000</td>\n",
       "      <td>-0.111737</td>\n",
       "    </tr>\n",
       "    <tr>\n",
       "      <th>75%</th>\n",
       "      <td>28.655000</td>\n",
       "      <td>100832.000000</td>\n",
       "      <td>1.447309e+09</td>\n",
       "      <td>4.629959e+06</td>\n",
       "      <td>-15.340000</td>\n",
       "      <td>1300.0</td>\n",
       "      <td>1.447330e+09</td>\n",
       "      <td>0.000000</td>\n",
       "      <td>-0.050000</td>\n",
       "    </tr>\n",
       "    <tr>\n",
       "      <th>max</th>\n",
       "      <td>233.780000</td>\n",
       "      <td>122988.000000</td>\n",
       "      <td>1.447650e+09</td>\n",
       "      <td>4.815140e+06</td>\n",
       "      <td>-2.450000</td>\n",
       "      <td>1300.0</td>\n",
       "      <td>1.447650e+09</td>\n",
       "      <td>4.000000</td>\n",
       "      <td>-0.000096</td>\n",
       "    </tr>\n",
       "  </tbody>\n",
       "</table>\n",
       "</div>"
      ],
      "text/plain": [
       "       purchase_price  pip_account_id     job_epoch  transaction_id  \\\n",
       "count     2119.000000     2119.000000  2.119000e+03    2.119000e+03   \n",
       "mean        24.133860    79859.873997  1.446995e+09    4.555297e+06   \n",
       "std         17.142428    26542.815855  3.623496e+05    9.027233e+04   \n",
       "min          2.250000     8363.000000  1.446350e+09    4.379187e+06   \n",
       "25%         13.795000    61112.000000  1.446744e+09    4.490941e+06   \n",
       "50%         19.950000    87043.000000  1.446963e+09    4.544459e+06   \n",
       "75%         28.655000   100832.000000  1.447309e+09    4.629959e+06   \n",
       "max        233.780000   122988.000000  1.447650e+09    4.815140e+06   \n",
       "\n",
       "            amount  transaction_code     pip_epoch          sim  \\\n",
       "count  2119.000000            2119.0  2.119000e+03  2119.000000   \n",
       "mean    -26.779844            1300.0  1.447030e+09     0.035866   \n",
       "std      18.646143               0.0  3.631691e+05     0.229210   \n",
       "min    -236.530000            1300.0  1.446354e+09     0.000000   \n",
       "25%     -32.130000            1300.0  1.446780e+09     0.000000   \n",
       "50%     -22.070000            1300.0  1.446983e+09     0.000000   \n",
       "75%     -15.340000            1300.0  1.447330e+09     0.000000   \n",
       "max      -2.450000            1300.0  1.447650e+09     4.000000   \n",
       "\n",
       "       purchase_amount_diff  \n",
       "count           2119.000000  \n",
       "mean              -0.114649  \n",
       "std                0.073690  \n",
       "min               -0.250000  \n",
       "25%               -0.175173  \n",
       "50%               -0.111737  \n",
       "75%               -0.050000  \n",
       "max               -0.000096  "
      ]
     },
     "execution_count": 88,
     "metadata": {},
     "output_type": "execute_result"
    }
   ],
   "source": [
    "jobs_pip_potential_issues2 = jobs_pip_potential_issues[jobs_pip_potential_issues.purchase_amount_diff < 0]\n",
    "print (jobs_pip_potential_issues2.shape)\n",
    "jobs_pip_potential_issues2.describe()"
   ]
  },
  {
   "cell_type": "code",
   "execution_count": 89,
   "metadata": {
    "collapsed": false
   },
   "outputs": [
    {
     "name": "stderr",
     "output_type": "stream",
     "text": [
      "//anaconda/lib/python3.5/site-packages/statsmodels/nonparametric/kdetools.py:20: VisibleDeprecationWarning:\n",
      "\n",
      "using a non-integer number instead of an integer will result in an error in the future\n",
      "\n"
     ]
    },
    {
     "data": {
      "text/plain": [
       "<matplotlib.axes._subplots.AxesSubplot at 0x17cfd60f0>"
      ]
     },
     "execution_count": 89,
     "metadata": {},
     "output_type": "execute_result"
    },
    {
     "data": {
      "image/png": "[encoded data removed]",
      "text/plain": [
       "<matplotlib.figure.Figure at 0x116c993c8>"
      ]
     },
     "metadata": {},
     "output_type": "display_data"
    }
   ],
   "source": [
    "sns.distplot(jobs_pip_potential_issues2.purchase_amount_diff)"
   ]
  },
  {
   "cell_type": "markdown",
   "metadata": {},
   "source": [
    "## Almost out of time, so this is getting sloppy.  I'm just going to say that anything under -0.15 is supicious.  That may be too conservative."
   ]
  },
  {
   "cell_type": "code",
   "execution_count": 90,
   "metadata": {
    "collapsed": false
   },
   "outputs": [
    {
     "data": {
      "text/plain": [
       "(728, 23)"
      ]
     },
     "execution_count": 90,
     "metadata": {},
     "output_type": "execute_result"
    }
   ],
   "source": [
    "jobs_pip_potential_issues2 = jobs_pip_potential_issues2[jobs_pip_potential_issues2.purchase_amount_diff < -.15]\n",
    "jobs_pip_potential_issues2.shape"
   ]
  },
  {
   "cell_type": "code",
   "execution_count": 91,
   "metadata": {
    "collapsed": false
   },
   "outputs": [
    {
     "data": {
      "text/plain": [
       "-3232.3100000000013"
      ]
     },
     "execution_count": 91,
     "metadata": {},
     "output_type": "execute_result"
    }
   ],
   "source": [
    "jobs_pip_potential_issues2['potential_losses'] = jobs_pip_potential_issues2.purchase_price + jobs_pip_potential_issues2.amount\n",
    "jobs_pip_potential_issues2.potential_losses.sum()"
   ]
  },
  {
   "cell_type": "markdown",
   "metadata": {},
   "source": [
    "# The above number is naive.  We should consider that only a portion of it will likely be monies in excess of the normal variation.  \n",
    "But I'm out of time\n",
    "\n",
    "## Clearly, I need to spend a few more hours cleaning this up.  There are many shortcomings.  Building the NLP features was probably a mistake.  It derailed me for maybe two hours.  The result is that it is likely that something greater that 0.5% of all expenditures are fraudulent. "
   ]
  },
  {
   "cell_type": "code",
   "execution_count": 92,
   "metadata": {
    "collapsed": false
   },
   "outputs": [
    {
     "data": {
      "text/plain": [
       "0.005902186592405548"
      ]
     },
     "execution_count": 92,
     "metadata": {},
     "output_type": "execute_result"
    }
   ],
   "source": [
    "jobs_pip_potential_issues2.potential_losses.sum() / pip.amount.sum()"
   ]
  },
  {
   "cell_type": "markdown",
   "metadata": {},
   "source": [
    "# My output contains duplicates.  They are records I have yet to disambiguate"
   ]
  },
  {
   "cell_type": "code",
   "execution_count": 108,
   "metadata": {
    "collapsed": false
   },
   "outputs": [
    {
     "name": "stdout",
     "output_type": "stream",
     "text": [
      "(20290, 2)\n"
     ]
    }
   ],
   "source": [
    "best_matches_with_duplicates = pd.concat([jobs_pip_sub,jobs_pip_potential_issues], axis=0)\n",
    "output = best_matches_with_duplicates[['job_uuid', 'transaction_id']]\n",
    "print (output.shape)\n",
    "output.to_csv('job_transaction_matches.csv', index=False)"
   ]
  },
  {
   "cell_type": "code",
   "execution_count": 109,
   "metadata": {
    "collapsed": false
   },
   "outputs": [
    {
     "name": "stdout",
     "output_type": "stream",
     "text": [
      "(2834, 9)\n"
     ]
    }
   ],
   "source": [
    "unmatched_transactions = pip[~pip.transaction_id.isin(best_matches.transaction_id)]\n",
    "print (unmatched_transactions.shape)\n",
    "unmatched_transactions[['transaction_id']].to_csv('unmatched_transactions.csv', index=False)"
   ]
  },
  {
   "cell_type": "code",
   "execution_count": 110,
   "metadata": {
    "collapsed": false
   },
   "outputs": [
    {
     "name": "stdout",
     "output_type": "stream",
     "text": [
      "(1731, 13)\n"
     ]
    }
   ],
   "source": [
    "unmatched_jobs = jobs[~jobs.job_uuid.isin(best_matches.job_uuid)]\n",
    "print (unmatched_jobs.shape)\n",
    "unmatched_jobs[['job_uuid']].to_csv('unmatched_jobs.csv', index=False)"
   ]
  }
 ],
 "metadata": {
  "anaconda-cloud": {},
  "kernelspec": {
   "display_name": "Python [Root]",
   "language": "python",
   "name": "Python [Root]"
  },
  "language_info": {
   "codemirror_mode": {
    "name": "ipython",
    "version": 3
   },
   "file_extension": ".py",
   "mimetype": "text/x-python",
   "name": "python",
   "nbconvert_exporter": "python",
   "pygments_lexer": "ipython3",
   "version": "3.5.2"
  }
 },
 "nbformat": 4,
 "nbformat_minor": 0
}
